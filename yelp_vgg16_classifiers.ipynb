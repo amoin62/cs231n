{
 "cells": [
  {
   "cell_type": "code",
   "execution_count": 1,
   "metadata": {},
   "outputs": [
    {
     "name": "stderr",
     "output_type": "stream",
     "text": [
      "/home/shared/anaconda3/lib/python3.6/site-packages/h5py/__init__.py:36: FutureWarning: Conversion of the second argument of issubdtype from `float` to `np.floating` is deprecated. In future, it will be treated as `np.float64 == np.dtype(float).type`.\n",
      "  from ._conv import register_converters as _register_converters\n"
     ]
    }
   ],
   "source": [
    "import yelp_dataloader\n",
    "import numpy as np\n",
    "import random\n",
    "from timeit import default_timer as timer\n",
    "from sklearn import metrics"
   ]
  },
  {
   "cell_type": "code",
   "execution_count": 2,
   "metadata": {},
   "outputs": [
    {
     "name": "stdout",
     "output_type": "stream",
     "text": [
      "/home/Afshin/cs231n/cs231n-project/yelp-data-feats/yelp_vgg16_fc7_0.h5\n",
      "/home/Afshin/cs231n/cs231n-project/yelp-data-feats/yelp_vgg16_fc7_1.h5\n",
      "/home/Afshin/cs231n/cs231n-project/yelp-data-feats/yelp_vgg16_fc7_2.h5\n",
      "/home/Afshin/cs231n/cs231n-project/yelp-data-feats/yelp_vgg16_fc7_3.h5\n",
      "/home/Afshin/cs231n/cs231n-project/yelp-data-feats/yelp_vgg16_fc7_4.h5\n",
      "load time for Yelp features. 84.08367230099975\n",
      "(234842, 11)\n",
      "(234842, 4098)\n"
     ]
    }
   ],
   "source": [
    "# Example of how to load Yelp photo features\n",
    "dir_path = '/home/Afshin/cs231n/cs231n-project/yelp-data-feats'\n",
    "file_name_prefix='yelp_vgg16_fc7_'\n",
    "num_batches=5\n",
    "num_feats=4096\n",
    "start = timer()\n",
    "meta_feats, photo_feats = yelp_dataloader.read_yelp_photo_feats(dir_path, file_name_prefix, num_batches, num_feats)\n",
    "end = timer()\n",
    "print('load time for Yelp features.', (end - start))\n",
    "print(meta_feats.shape)\n",
    "print(photo_feats.shape)"
   ]
  },
  {
   "cell_type": "code",
   "execution_count": 3,
   "metadata": {},
   "outputs": [],
   "source": [
    "# Example of how to compure and export Yelp business features from Yelp photo features\n",
    "# Note that meta_feats and photo_feats are input to this method\n",
    "# This method computes business features from photo features.\n",
    "# If photo feaures are already exported to a file, \n",
    "# they can be loaded directly calling yelp_dataloader.read_yelp_biz_feats as shown next. \n",
    "\n",
    "#biz_dir_path = '/home/Afshin/cs231n/cs231n-project/yelp-biz-feats'\n",
    "#file_name = 'yelp_biz_vgg16_fc7.h5'\n",
    "#biz_id_feats, biz_id_labels = yelp_dataloader.compute_yelp_biz_feats(meta_feats, photo_feats,\\\n",
    "#                                                                     num_feats, biz_dir_path, file_name, export=True)"
   ]
  },
  {
   "cell_type": "code",
   "execution_count": 4,
   "metadata": {},
   "outputs": [
    {
     "name": "stdout",
     "output_type": "stream",
     "text": [
      "biz_feats,  (2000, 4096)\n",
      "biz_labels,  (2000, 9)\n"
     ]
    }
   ],
   "source": [
    "# Example of how to read Yelp business features\n",
    "biz_dir_path = '/home/Afshin/cs231n/cs231n-project/yelp-biz-feats'\n",
    "biz_file_name ='yelp_biz_vgg16_fc7.h5'\n",
    "biz_id_feats, biz_id_labels = yelp_dataloader.read_yelp_biz_feats(biz_dir_path, biz_file_name)\n",
    "biz_feats = biz_id_feats[:, 1:]\n",
    "biz_labels = biz_id_labels[:, 1:]\n",
    "print('biz_feats, ', biz_feats.shape)\n",
    "print('biz_labels, ', biz_labels.shape)"
   ]
  },
  {
   "cell_type": "code",
   "execution_count": 5,
   "metadata": {},
   "outputs": [
    {
     "name": "stdout",
     "output_type": "stream",
     "text": [
      "PCA fitting time for business features = 2.033801 seconds\n",
      "(2000, 512)\n"
     ]
    }
   ],
   "source": [
    "from sklearn.decomposition import PCA\n",
    "\n",
    "pca = PCA(n_components=512)\n",
    "start = timer()\n",
    "pca.fit(biz_feats)\n",
    "end = timer()\n",
    "print('PCA fitting time for business features = %f seconds' % (end - start))\n",
    "pca_biz_feats = pca.transform(biz_feats)\n",
    "print(pca_biz_feats.shape)"
   ]
  },
  {
   "cell_type": "code",
   "execution_count": 6,
   "metadata": {
    "scrolled": true
   },
   "outputs": [
    {
     "name": "stdout",
     "output_type": "stream",
     "text": [
      "PCA fitting time for photo features = 169.555869 seconds\n",
      "(234842, 512)\n"
     ]
    }
   ],
   "source": [
    "pca = PCA(n_components=512)\n",
    "start = timer()\n",
    "pca.fit(photo_feats[:, 2:])\n",
    "end = timer()\n",
    "print('PCA fitting time for photo features = %f seconds' % (end - start))\n",
    "pca_photo_feats = pca.transform(photo_feats[:, 2:])\n",
    "print(pca_photo_feats.shape)"
   ]
  },
  {
   "cell_type": "code",
   "execution_count": 7,
   "metadata": {},
   "outputs": [],
   "source": [
    "Num_train = 1800\n",
    "Num_dev = 100\n",
    "Num_test = 100\n",
    "X_pca_train = pca_biz_feats[:Num_train]\n",
    "X_pca_dev = pca_biz_feats[Num_train: Num_train + Num_dev]\n",
    "X_pca_test = pca_biz_feats[Num_train + Num_dev: Num_train + Num_dev + Num_test]"
   ]
  },
  {
   "cell_type": "code",
   "execution_count": 8,
   "metadata": {},
   "outputs": [],
   "source": [
    "Num_train = 1800\n",
    "Num_dev = 100\n",
    "Num_test = 100\n",
    "X_train = biz_feats[:Num_train]\n",
    "y_train = biz_labels[:Num_train]\n",
    "X_dev = biz_feats[Num_train: Num_train + Num_dev]\n",
    "y_dev = biz_labels[Num_train: Num_train + Num_dev]\n",
    "X_test = biz_feats[Num_train + Num_dev: Num_train + Num_dev + Num_test]\n",
    "y_test = biz_labels[Num_train + Num_dev: Num_train + Num_dev + Num_test]"
   ]
  },
  {
   "cell_type": "code",
   "execution_count": 9,
   "metadata": {},
   "outputs": [],
   "source": [
    "label_prob = np.array([0.3355, 0.4965, 0.513, 0.5015, 0.2735, 0.6245, 0.68, 0.286, 0.619])\n",
    "rand_train = np.random.rand(*y_train.shape)\n",
    "rand_pred_train = np.ones(y_train.shape)\n",
    "rand_pred_train[rand_train > label_prob] = 0\n",
    "\n",
    "rand = np.random.rand(*y_test.shape)\n",
    "rand_pred = np.ones(y_test.shape)\n",
    "rand_pred[rand > label_prob] = 0"
   ]
  },
  {
   "cell_type": "code",
   "execution_count": 10,
   "metadata": {},
   "outputs": [
    {
     "name": "stdout",
     "output_type": "stream",
     "text": [
      "Random train P = 0.479359, train R = 0.482028, train f1 = 0.480644\n",
      "Random test P = 0.462205, test R = 0.458771, test f1 = 0.459406\n"
     ]
    }
   ],
   "source": [
    "p_train, r_train, f1_train, _ = metrics.precision_recall_fscore_support(y_train, rand_pred_train, average='macro')\n",
    "print('Random train P = %f, train R = %f, train f1 = %f' \\\n",
    "  % (p_train, r_train, f1_train))\n",
    "p_test, r_test, f1_test, s_test = metrics.precision_recall_fscore_support(y_test, rand_pred, average='macro')  \n",
    "print('Random test P = %f, test R = %f, test f1 = %f' \\\n",
    "  % (p_test, r_test, f1_test))"
   ]
  },
  {
   "cell_type": "code",
   "execution_count": 11,
   "metadata": {},
   "outputs": [
    {
     "name": "stdout",
     "output_type": "stream",
     "text": [
      "mpl train P = 0.833708, train R = 0.804181, train f1 = 0.815791, Hidden size = 70\n",
      "mpl dev P = 0.849619, dev R = 0.807119, dev f1 = 0.817607, Hidden size = 70\n",
      "\n",
      "mpl train P = 0.827995, train R = 0.808817, train f1 = 0.813171, Hidden size = 80\n",
      "mpl dev P = 0.856846, dev R = 0.822871, dev f1 = 0.833573, Hidden size = 80\n",
      "\n",
      "mpl train P = 0.815086, train R = 0.799085, train f1 = 0.802043, Hidden size = 90\n",
      "mpl dev P = 0.834677, dev R = 0.805787, dev f1 = 0.811039, Hidden size = 90\n",
      "\n",
      "mpl train P = 0.841065, train R = 0.786730, train f1 = 0.797034, Hidden size = 100\n",
      "mpl dev P = 0.858522, dev R = 0.786223, dev f1 = 0.797846, Hidden size = 100\n",
      "\n",
      "mpl train P = 0.832680, train R = 0.805421, train f1 = 0.816143, Hidden size = 110\n",
      "mpl dev P = 0.838366, dev R = 0.800899, dev f1 = 0.816794, Hidden size = 110\n",
      "\n",
      "mpl train P = 0.814410, train R = 0.847502, train f1 = 0.822342, Hidden size = 120\n",
      "mpl dev P = 0.835408, dev R = 0.853321, dev f1 = 0.836615, Hidden size = 120\n",
      "\n",
      "mpl train P = 0.853309, train R = 0.778406, train f1 = 0.806728, Hidden size = 130\n",
      "mpl dev P = 0.878894, dev R = 0.785278, dev f1 = 0.815500, Hidden size = 130\n",
      "\n",
      "mpl train P = 0.852576, train R = 0.764675, train f1 = 0.799987, Hidden size = 140\n",
      "mpl dev P = 0.883115, dev R = 0.755383, dev f1 = 0.802732, Hidden size = 140\n",
      "\n",
      "Best mpl dev P = 0.835408, dev R = 0.853321, dev f1 = 0.836615, Best hidden size = 120\n",
      "Best mpl test P = 0.778071, test R = 0.820776, test f1 = 0.785302, Best hidden size = 120\n"
     ]
    }
   ],
   "source": [
    "from sklearn.neural_network import MLPClassifier\n",
    "\n",
    "hidden_sizes = [70, 80, 90, 100, 110, 120, 130, 140]\n",
    "best_p, best_r, best_f1, best_size, best_mpl_model = 0, 0, 0, 0, None\n",
    "for size in hidden_sizes:\n",
    "    mpl = MLPClassifier(hidden_layer_sizes=(size))\n",
    "    mpl.fit(X_train,y_train)\n",
    "    \n",
    "    mpl_train_pred = mpl.predict(X_train)\n",
    "    mpl_dev_pred = mpl.predict(X_dev)\n",
    "    \n",
    "    p_train, r_train, f1_train, _ = metrics.precision_recall_fscore_support(y_train, mpl_train_pred, average='macro') \n",
    "    p_dev, r_dev, f1_dev, _ = metrics.precision_recall_fscore_support(y_dev, mpl_dev_pred, average='macro')  \n",
    "    print('mpl train P = %f, train R = %f, train f1 = %f, Hidden size = %d' \\\n",
    "          % (p_train, r_train, f1_train, size))\n",
    "    print('mpl dev P = %f, dev R = %f, dev f1 = %f, Hidden size = %d' \\\n",
    "          % (p_dev, r_dev, f1_dev, size))\n",
    "    print()\n",
    "    if f1_dev > best_f1:\n",
    "        best_p = p_dev\n",
    "        best_r = r_dev\n",
    "        best_f1 = f1_dev\n",
    "        best_size = size\n",
    "        best_mpl_model = mpl\n",
    "\n",
    "print('Best mpl dev P = %f, dev R = %f, dev f1 = %f, Best hidden size = %d' \\\n",
    "      % (best_p, best_r, best_f1, best_size))\n",
    "mpl_test_pred = best_mpl_model.predict(X_test)\n",
    "p_test, r_test, f1_test, _ = metrics.precision_recall_fscore_support(y_test, mpl_test_pred, average='macro') \n",
    "print('Best mpl test P = %f, test R = %f, test f1 = %f, Best hidden size = %d' \\\n",
    "  % (p_test, r_test, f1_test, best_size))"
   ]
  },
  {
   "cell_type": "code",
   "execution_count": 12,
   "metadata": {},
   "outputs": [
    {
     "name": "stderr",
     "output_type": "stream",
     "text": [
      "/home/shared/anaconda3/lib/python3.6/site-packages/sklearn/neural_network/multilayer_perceptron.py:564: ConvergenceWarning: Stochastic Optimizer: Maximum iterations (200) reached and the optimization hasn't converged yet.\n",
      "  % self.max_iter, ConvergenceWarning)\n"
     ]
    },
    {
     "name": "stdout",
     "output_type": "stream",
     "text": [
      "mpl pca train P = 0.814586, train R = 0.782723, train f1 = 0.795341, Hidden size = 2\n",
      "mpl pca dev P = 0.816163, dev R = 0.765587, dev f1 = 0.778695, Hidden size = 2\n",
      "\n",
      "mpl pca train P = 0.833702, train R = 0.830415, train f1 = 0.829512, Hidden size = 3\n",
      "mpl pca dev P = 0.819495, dev R = 0.806760, dev f1 = 0.803216, Hidden size = 3\n",
      "\n",
      "mpl pca train P = 0.849335, train R = 0.845425, train f1 = 0.846523, Hidden size = 4\n",
      "mpl pca dev P = 0.830014, dev R = 0.813751, dev f1 = 0.817117, Hidden size = 4\n",
      "\n",
      "mpl pca train P = 0.859670, train R = 0.873960, train f1 = 0.865399, Hidden size = 5\n",
      "mpl pca dev P = 0.811833, dev R = 0.835767, dev f1 = 0.820943, Hidden size = 5\n",
      "\n",
      "mpl pca train P = 0.876988, train R = 0.871212, train f1 = 0.873542, Hidden size = 6\n",
      "mpl pca dev P = 0.844416, dev R = 0.831780, dev f1 = 0.836112, Hidden size = 6\n",
      "\n",
      "mpl pca train P = 0.894917, train R = 0.897616, train f1 = 0.896060, Hidden size = 7\n",
      "mpl pca dev P = 0.841245, dev R = 0.822042, dev f1 = 0.829708, Hidden size = 7\n",
      "\n",
      "Best mpl pca dev P = 0.844416, dev R = 0.831780, dev f1 = 0.836112, Best hidden size = 6\n",
      "Best mpl pca test P = 0.793330, test R = 0.820232, test f1 = 0.803104, Best hidden size = 6\n"
     ]
    }
   ],
   "source": [
    "hidden_sizes = [2, 3, 4, 5, 6, 7]\n",
    "best_p, best_r, best_f1, best_size, best_mpl_pca_model = 0, 0, 0, 0, None\n",
    "for size in hidden_sizes:\n",
    "    mpl = MLPClassifier(hidden_layer_sizes=(size), alpha=0.1)\n",
    "    mpl.fit(X_pca_train,y_train)\n",
    "    \n",
    "    mpl_pca_train_pred = mpl.predict(X_pca_train)\n",
    "    mpl_pca_dev_pred = mpl.predict(X_pca_dev)\n",
    "    \n",
    "    p_train, r_train, f1_train, _ = metrics.precision_recall_fscore_support(y_train, mpl_pca_train_pred, average='macro') \n",
    "    p_dev, r_dev, f1_dev, _ = metrics.precision_recall_fscore_support(y_dev, mpl_pca_dev_pred, average='macro')  \n",
    "    print('mpl pca train P = %f, train R = %f, train f1 = %f, Hidden size = %d' \\\n",
    "          % (p_train, r_train, f1_train, size))\n",
    "    print('mpl pca dev P = %f, dev R = %f, dev f1 = %f, Hidden size = %d' \\\n",
    "          % (p_dev, r_dev, f1_dev, size))\n",
    "    print()\n",
    "\n",
    "    if f1_dev > best_f1:\n",
    "        best_p = p_dev\n",
    "        best_r = r_dev\n",
    "        best_f1 = f1_dev\n",
    "        best_size = size\n",
    "        best_mpl_pca_model = mpl\n",
    "\n",
    "print('Best mpl pca dev P = %f, dev R = %f, dev f1 = %f, Best hidden size = %d' \\\n",
    "      % (best_p, best_r, best_f1, best_size))\n",
    "mpl_pca_test_pred = best_mpl_pca_model.predict(X_pca_test)\n",
    "p_test, r_test, f1_test, _ = metrics.precision_recall_fscore_support(y_test, mpl_pca_test_pred, average='macro') \n",
    "print('Best mpl pca test P = %f, test R = %f, test f1 = %f, Best hidden size = %d' \\\n",
    "  % (p_test, r_test, f1_test, best_size))"
   ]
  },
  {
   "cell_type": "code",
   "execution_count": 13,
   "metadata": {},
   "outputs": [
    {
     "name": "stdout",
     "output_type": "stream",
     "text": [
      "dtc train P = 1.000000, train R = 1.000000, train f1 = 1.000000\n",
      "dtc dev P = 0.713595, dev R = 0.684197, dev f1 = 0.694193\n",
      "dtc test P = 0.735871, test R = 0.691600, test f1 = 0.710942\n"
     ]
    }
   ],
   "source": [
    "from sklearn.tree import DecisionTreeClassifier\n",
    "\n",
    "dtc = DecisionTreeClassifier()\n",
    "dtc.fit(X_train,y_train)\n",
    "    \n",
    "dtc_train_pred = dtc.predict(X_train)\n",
    "dtc_dev_pred = dtc.predict(X_dev)\n",
    "dtc_test_pred = dtc.predict(X_test)\n",
    "p_train, r_train, f1_train, _ = metrics.precision_recall_fscore_support(y_train, dtc_train_pred, average='macro') \n",
    "p_dev, r_dev, f1_dev, _ = metrics.precision_recall_fscore_support(y_dev, dtc_dev_pred, average='macro')  \n",
    "p_test, r_test, f1_test, _ = metrics.precision_recall_fscore_support(y_test, dtc_test_pred, average='macro') \n",
    "print('dtc train P = %f, train R = %f, train f1 = %f' \\\n",
    "      % (p_train, r_train, f1_train))\n",
    "print('dtc dev P = %f, dev R = %f, dev f1 = %f' \\\n",
    "      % (p_dev, r_dev, f1_dev))\n",
    "print('dtc test P = %f, test R = %f, test f1 = %f' \\\n",
    "      % (p_test, r_test, f1_test))"
   ]
  },
  {
   "cell_type": "code",
   "execution_count": 14,
   "metadata": {},
   "outputs": [
    {
     "name": "stdout",
     "output_type": "stream",
     "text": [
      "dtc pca train P = 1.000000, train R = 1.000000, train f1 = 1.000000\n",
      "dtc pca dev P = 0.732149, dev R = 0.675964, dev f1 = 0.700507\n",
      "dtc pca test P = 0.680519, test R = 0.690659, test f1 = 0.683330\n"
     ]
    }
   ],
   "source": [
    "dtc_pca = DecisionTreeClassifier()\n",
    "dtc_pca.fit(X_pca_train,y_train)\n",
    "\n",
    "dtc_pca_train_pred = dtc_pca.predict(X_pca_train)\n",
    "dtc_pca_dev_pred = dtc_pca.predict(X_pca_dev)\n",
    "dtc_pca_test_pred = dtc_pca.predict(X_pca_test)\n",
    "p_train, r_train, f1_train, _ = metrics.precision_recall_fscore_support(y_train, dtc_pca_train_pred, average='macro') \n",
    "p_dev, r_dev, f1_dev, _ = metrics.precision_recall_fscore_support(y_dev, dtc_pca_dev_pred, average='macro')  \n",
    "p_test, r_test, f1_test, _ = metrics.precision_recall_fscore_support(y_test, dtc_pca_test_pred, average='macro') \n",
    "print('dtc pca train P = %f, train R = %f, train f1 = %f' \\\n",
    "      % (p_train, r_train, f1_train))\n",
    "print('dtc pca dev P = %f, dev R = %f, dev f1 = %f' \\\n",
    "      % (p_dev, r_dev, f1_dev))\n",
    "print('dtc pca test P = %f, test R = %f, test f1 = %f' \\\n",
    "      % (p_test, r_test, f1_test))"
   ]
  },
  {
   "cell_type": "code",
   "execution_count": 15,
   "metadata": {},
   "outputs": [
    {
     "name": "stdout",
     "output_type": "stream",
     "text": [
      "rfc train P = 0.996146, train R = 0.980905, train f1 = 0.988421\n",
      "rfc dev P = 0.840660, dev R = 0.722893, dev f1 = 0.773768\n",
      "rfc test P = 0.794666, test R = 0.718052, test f1 = 0.750945\n"
     ]
    }
   ],
   "source": [
    "from sklearn.ensemble import RandomForestClassifier\n",
    "\n",
    "rfc = RandomForestClassifier()\n",
    "rfc.fit(X_train,y_train)\n",
    "\n",
    "rfc_train_pred = rfc.predict(X_train)\n",
    "rfc_dev_pred = rfc.predict(X_dev)\n",
    "rfc_test_pred = rfc.predict(X_test)\n",
    "p_train, r_train, f1_train, _ = metrics.precision_recall_fscore_support(y_train, rfc_train_pred, average='macro') \n",
    "p_dev, r_dev, f1_dev, _ = metrics.precision_recall_fscore_support(y_dev, rfc_dev_pred, average='macro')  \n",
    "p_test, r_test, f1_test, _ = metrics.precision_recall_fscore_support(y_test, rfc_test_pred, average='macro') \n",
    "print('rfc train P = %f, train R = %f, train f1 = %f' \\\n",
    "      % (p_train, r_train, f1_train))\n",
    "print('rfc dev P = %f, dev R = %f, dev f1 = %f' \\\n",
    "      % (p_dev, r_dev, f1_dev))\n",
    "print('rfc test P = %f, test R = %f, test f1 = %f' \\\n",
    "      % (p_test, r_test, f1_test))"
   ]
  },
  {
   "cell_type": "code",
   "execution_count": 16,
   "metadata": {},
   "outputs": [
    {
     "name": "stdout",
     "output_type": "stream",
     "text": [
      "rfc pca train P = 1.000000, train R = 1.000000, train f1 = 1.000000\n",
      "rfc pca dev P = 0.732149, dev R = 0.675964, dev f1 = 0.700507\n",
      "rfc pca test P = 0.680519, test R = 0.690659, test f1 = 0.683330\n"
     ]
    }
   ],
   "source": [
    "rfc_pca = RandomForestClassifier()\n",
    "rfc_pca.fit(X_pca_train,y_train)\n",
    "\n",
    "rfc_pca_train_pred = dtc_pca.predict(X_pca_train)\n",
    "rfc_pca_dev_pred = dtc_pca.predict(X_pca_dev)\n",
    "rfc_pca_test_pred = dtc_pca.predict(X_pca_test)\n",
    "p_train, r_train, f1_train, _ = metrics.precision_recall_fscore_support(y_train, rfc_pca_train_pred, average='macro') \n",
    "p_dev, r_dev, f1_dev, _ = metrics.precision_recall_fscore_support(y_dev, rfc_pca_dev_pred, average='macro')  \n",
    "p_test, r_test, f1_test, _ = metrics.precision_recall_fscore_support(y_test, rfc_pca_test_pred, average='macro') \n",
    "print('rfc pca train P = %f, train R = %f, train f1 = %f' \\\n",
    "      % (p_train, r_train, f1_train))\n",
    "print('rfc pca dev P = %f, dev R = %f, dev f1 = %f' \\\n",
    "      % (p_dev, r_dev, f1_dev))\n",
    "print('rfc pca test P = %f, test R = %f, test f1 = %f' \\\n",
    "      % (p_test, r_test, f1_test))"
   ]
  },
  {
   "cell_type": "code",
   "execution_count": 17,
   "metadata": {},
   "outputs": [
    {
     "name": "stdout",
     "output_type": "stream",
     "text": [
      "knn train P = 0.876366, train R = 0.877503, train f1 = 0.875453, Best number of neighbors 3\n",
      "knn dev P = 0.803913, dev R = 0.775836, dev f1 = 0.785245, Best number of neighbors 3\n",
      "\n",
      "knn train P = 0.853809, train R = 0.853712, train f1 = 0.851532, Best number of neighbors 5\n",
      "knn dev P = 0.813121, dev R = 0.791877, dev f1 = 0.797626, Best number of neighbors 5\n",
      "\n",
      "knn train P = 0.849342, train R = 0.804416, train f1 = 0.821907, Best number of neighbors 10\n",
      "knn dev P = 0.816477, dev R = 0.756981, dev f1 = 0.773251, Best number of neighbors 10\n",
      "\n",
      "knn train P = 0.825266, train R = 0.807883, train f1 = 0.809836, Best number of neighbors 20\n",
      "knn dev P = 0.828474, dev R = 0.798841, dev f1 = 0.802130, Best number of neighbors 20\n",
      "\n",
      "knn train P = 0.811788, train R = 0.813530, train f1 = 0.805022, Best number of neighbors 30\n",
      "knn dev P = 0.813451, dev R = 0.805049, dev f1 = 0.799597, Best number of neighbors 30\n",
      "\n",
      "Best knn dev P = 0.828474, dev R = 0.798841, dev f1 = 0.802130, Best number of neighbors 20\n",
      "Best knn test P = 0.772267, test R = 0.768167, test f1 = 0.756368, Best number of neighbors 20\n"
     ]
    }
   ],
   "source": [
    "from sklearn.neighbors import KNeighborsClassifier\n",
    "\n",
    "neighbor_sizes = [3, 5, 10, 20, 30]\n",
    "best_p, best_r, best_f1, best_size, best_knn_model = 0, 0, 0, 0, None\n",
    "for size in neighbor_sizes:\n",
    "    knn = KNeighborsClassifier(n_neighbors=size)\n",
    "    knn.fit(X_train,y_train)\n",
    "\n",
    "    knn_train_pred = knn.predict(X_train)\n",
    "    knn_dev_pred = knn.predict(X_dev)\n",
    "    p_train, r_train, f1_train, _ = metrics.precision_recall_fscore_support(y_train, knn_train_pred, average='macro') \n",
    "    p_dev, r_dev, f1_dev, _ = metrics.precision_recall_fscore_support(y_dev, knn_dev_pred, average='macro')  \n",
    "    print('knn train P = %f, train R = %f, train f1 = %f, Best number of neighbors %d' \\\n",
    "          % (p_train, r_train, f1_train, size))\n",
    "    print('knn dev P = %f, dev R = %f, dev f1 = %f, Best number of neighbors %d' \\\n",
    "          % (p_dev, r_dev, f1_dev, size))\n",
    "    print()\n",
    "    if f1_dev > best_f1:\n",
    "        best_p = p_dev\n",
    "        best_r = r_dev\n",
    "        best_f1 = f1_dev\n",
    "        best_size = size\n",
    "        best_knn_model = knn\n",
    "print('Best knn dev P = %f, dev R = %f, dev f1 = %f, Best number of neighbors %d' \\\n",
    "          % (best_p, best_r, best_f1, best_size))\n",
    "knn_test_pred = best_knn_model.predict(X_test)\n",
    "p_test, r_test, f1_test, s_test = metrics.precision_recall_fscore_support(y_test, knn_test_pred, average='macro') \n",
    "print('Best knn test P = %f, test R = %f, test f1 = %f, Best number of neighbors %d' \\\n",
    "  % (p_test, r_test, f1_test, best_size))"
   ]
  },
  {
   "cell_type": "code",
   "execution_count": 18,
   "metadata": {},
   "outputs": [
    {
     "name": "stdout",
     "output_type": "stream",
     "text": [
      "pca knn train P = 0.876546, train R = 0.877828, train f1 = 0.875755, Best number of neighbors 3\n",
      "pca knn dev P = 0.798825, dev R = 0.768124, dev f1 = 0.778931, Best number of neighbors 3\n",
      "\n",
      "pca knn train P = 0.854006, train R = 0.853618, train f1 = 0.851636, Best number of neighbors 5\n",
      "pca knn dev P = 0.817978, dev R = 0.792688, dev f1 = 0.800444, Best number of neighbors 5\n",
      "\n",
      "pca knn train P = 0.849795, train R = 0.805468, train f1 = 0.822721, Best number of neighbors 10\n",
      "pca knn dev P = 0.818802, dev R = 0.761475, dev f1 = 0.778223, Best number of neighbors 10\n",
      "\n",
      "pca knn train P = 0.825125, train R = 0.807174, train f1 = 0.809520, Best number of neighbors 20\n",
      "pca knn dev P = 0.827372, dev R = 0.798841, dev f1 = 0.801517, Best number of neighbors 20\n",
      "\n",
      "pca knn train P = 0.812559, train R = 0.813295, train f1 = 0.805368, Best number of neighbors 30\n",
      "pca knn dev P = 0.810727, dev R = 0.808445, dev f1 = 0.800716, Best number of neighbors 30\n",
      "\n",
      "Best pca knn dev P = 0.827372, dev R = 0.798841, dev f1 = 0.801517, Best number of neighbors 20\n",
      "Best pca knn test P = 0.777244, test R = 0.773458, test f1 = 0.761288, Best number of neighbors 20\n"
     ]
    }
   ],
   "source": [
    "neighbor_sizes = [3, 5, 10, 20, 30]\n",
    "best_p, best_r, best_f1, best_size, best_knn_model = 0, 0, 0, 0, None\n",
    "for size in neighbor_sizes:\n",
    "    knn = KNeighborsClassifier(n_neighbors=size)\n",
    "    knn.fit(X_pca_train,y_train)\n",
    "\n",
    "    knn_pca_train_pred = knn.predict(X_pca_train)\n",
    "    knn_pca_dev_pred = knn.predict(X_pca_dev)\n",
    "    p_train, r_train, f1_train, _ = metrics.precision_recall_fscore_support(y_train, knn_pca_train_pred, average='macro') \n",
    "    p_dev, r_dev, f1_dev, _ = metrics.precision_recall_fscore_support(y_dev, knn_pca_dev_pred, average='macro')  \n",
    "    print('pca knn train P = %f, train R = %f, train f1 = %f, Best number of neighbors %d' \\\n",
    "          % (p_train, r_train, f1_train, size))\n",
    "    print('pca knn dev P = %f, dev R = %f, dev f1 = %f, Best number of neighbors %d' \\\n",
    "          % (p_dev, r_dev, f1_dev, size))\n",
    "    print()\n",
    "    if f1_dev > best_f1:\n",
    "        best_p = p_dev\n",
    "        best_r = r_dev\n",
    "        best_f1 = f1_dev\n",
    "        best_size = size\n",
    "        best_knn_model = knn\n",
    "print('Best pca knn dev P = %f, dev R = %f, dev f1 = %f, Best number of neighbors %d' \\\n",
    "          % (best_p, best_r, best_f1, best_size))\n",
    "knn_pca_test_pred = best_knn_model.predict(X_pca_test)\n",
    "p_test, r_test, f1_test, s_test = metrics.precision_recall_fscore_support(y_test, knn_pca_test_pred, average='macro') \n",
    "print('Best pca knn test P = %f, test R = %f, test f1 = %f, Best number of neighbors %d' \\\n",
    "  % (p_test, r_test, f1_test, best_size))"
   ]
  },
  {
   "cell_type": "code",
   "execution_count": 19,
   "metadata": {},
   "outputs": [
    {
     "name": "stdout",
     "output_type": "stream",
     "text": [
      "svc train P = 0.900054, train R = 0.875113, train f1 = 0.886919\n",
      "svc dev P = 0.848850, dev R = 0.797906, dev f1 = 0.820457\n",
      "svc test P = 0.807718, test R = 0.789881, test f1 = 0.797618\n"
     ]
    }
   ],
   "source": [
    "from sklearn.multiclass import OneVsRestClassifier\n",
    "from sklearn.svm import LinearSVC\n",
    "from sklearn.calibration import CalibratedClassifierCV\n",
    "\n",
    "svc = OneVsRestClassifier(CalibratedClassifierCV(LinearSVC(random_state=0, C=0.01))).fit(X_train, y_train)\n",
    "svc_train_pred = svc.predict(X_train)\n",
    "svc_dev_pred = svc.predict(X_dev)\n",
    "svc_test_pred = svc.predict(X_test)\n",
    "p_train, r_train, f1_train, _ = metrics.precision_recall_fscore_support(y_train, svc_train_pred, average='macro') \n",
    "p_dev, r_dev, f1_dev, _ = metrics.precision_recall_fscore_support(y_dev, svc_dev_pred, average='macro')\n",
    "p_test, r_test, f1_test, _ = metrics.precision_recall_fscore_support(y_test, svc_test_pred, average='macro') \n",
    "print('svc train P = %f, train R = %f, train f1 = %f' % \\\n",
    "      (p_train, r_train, f1_train))\n",
    "print('svc dev P = %f, dev R = %f, dev f1 = %f' \\\n",
    "      % (p_dev, r_dev, f1_dev))\n",
    "print('svc test P = %f, test R = %f, test f1 = %f' \\\n",
    "      % (p_test, r_test, f1_test))"
   ]
  },
  {
   "cell_type": "code",
   "execution_count": 20,
   "metadata": {},
   "outputs": [
    {
     "name": "stdout",
     "output_type": "stream",
     "text": [
      "pca svc train P = 0.892094, train R = 0.863402, train f1 = 0.876698\n",
      "pca svc dev P = 0.852958, dev R = 0.802565, dev f1 = 0.824313\n",
      "pca svc test P = 0.807563, test R = 0.783078, test f1 = 0.793898\n"
     ]
    }
   ],
   "source": [
    "from sklearn.multiclass import OneVsRestClassifier\n",
    "from sklearn.svm import LinearSVC\n",
    "from sklearn.calibration import CalibratedClassifierCV\n",
    "\n",
    "svc_pca = OneVsRestClassifier(CalibratedClassifierCV(LinearSVC(random_state=0, C=0.01))).fit(X_pca_train, y_train)\n",
    "svc_pca_train_pred = svc_pca.predict(X_pca_train)\n",
    "svc_pca_dev_pred = svc_pca.predict(X_pca_dev)\n",
    "svc_pca_test_pred = svc_pca.predict(X_pca_test)\n",
    "p_train, r_train, f1_train, _ = metrics.precision_recall_fscore_support(y_train, svc_pca_train_pred, average='macro') \n",
    "p_dev, r_dev, f1_dev, _ = metrics.precision_recall_fscore_support(y_dev, svc_pca_dev_pred, average='macro')\n",
    "p_test, r_test, f1_test, _ = metrics.precision_recall_fscore_support(y_test, svc_pca_test_pred, average='macro') \n",
    "print('pca svc train P = %f, train R = %f, train f1 = %f' % \\\n",
    "      (p_train, r_train, f1_train))\n",
    "print('pca svc dev P = %f, dev R = %f, dev f1 = %f' \\\n",
    "      % (p_dev, r_dev, f1_dev))\n",
    "print('pca svc test P = %f, test R = %f, test f1 = %f' \\\n",
    "      % (p_test, r_test, f1_test))"
   ]
  },
  {
   "cell_type": "code",
   "execution_count": 21,
   "metadata": {},
   "outputs": [
    {
     "name": "stdout",
     "output_type": "stream",
     "text": [
      "lr train P = 0.863364, train R = 0.847115, train f1 = 0.854872\n",
      "lr dev P = 0.855576, dev R = 0.816955, dev f1 = 0.834703\n",
      "lr test P = 0.815773, test R = 0.799749, test f1 = 0.806261\n"
     ]
    }
   ],
   "source": [
    "from sklearn.multiclass import OneVsRestClassifier\n",
    "from sklearn.linear_model import LogisticRegression\n",
    "lr = OneVsRestClassifier(LogisticRegression(random_state=0, C=0.01)).fit(X_train, y_train)\n",
    "lr_train_pred = lr.predict(X_train)\n",
    "lr_dev_pred = lr.predict(X_dev)\n",
    "lr_test_pred = lr.predict(X_test)\n",
    "p_train, r_train, f1_train, _ = metrics.precision_recall_fscore_support(y_train, lr_train_pred, average='macro') \n",
    "p_dev, r_dev, f1_dev, _ = metrics.precision_recall_fscore_support(y_dev, lr_dev_pred, average='macro')\n",
    "p_test, r_test, f1_test, _ = metrics.precision_recall_fscore_support(y_test, lr_test_pred, average='macro') \n",
    "print('lr train P = %f, train R = %f, train f1 = %f' \\\n",
    "      % (p_train, r_train, f1_train))\n",
    "print('lr dev P = %f, dev R = %f, dev f1 = %f' \\\n",
    "      % (p_dev, r_dev, f1_dev))\n",
    "print('lr test P = %f, test R = %f, test f1 = %f' \\\n",
    "      % (p_test, r_test, f1_test))"
   ]
  },
  {
   "cell_type": "code",
   "execution_count": 22,
   "metadata": {},
   "outputs": [
    {
     "name": "stdout",
     "output_type": "stream",
     "text": [
      "pca lr train P = 0.854151, train R = 0.858901, train f1 = 0.855703\n",
      "pca lr dev P = 0.829733, dev R = 0.832734, dev f1 = 0.828761\n",
      "pca lr test P = 0.805236, test R = 0.813912, test f1 = 0.808109\n"
     ]
    }
   ],
   "source": [
    "from sklearn.multiclass import OneVsRestClassifier\n",
    "from sklearn.linear_model import LogisticRegression\n",
    "\n",
    "lr_pca = OneVsRestClassifier(LogisticRegression(random_state=0, C=0.01)).fit(X_pca_train, y_train)\n",
    "lr_pca_train_pred = lr_pca.predict(X_pca_train)\n",
    "lr_pca_dev_pred = lr_pca.predict(X_pca_dev)\n",
    "lr_pca_test_pred = lr_pca.predict(X_pca_test)\n",
    "p_train, r_train, f1_train, _ = metrics.precision_recall_fscore_support(y_train, lr_pca_train_pred, average='macro') \n",
    "p_dev, r_dev, f1_dev, _ = metrics.precision_recall_fscore_support(y_dev, lr_pca_dev_pred, average='macro')\n",
    "p_test, r_test, f1_test, _ = metrics.precision_recall_fscore_support(y_test, lr_pca_test_pred, average='macro') \n",
    "print('pca lr train P = %f, train R = %f, train f1 = %f' \\\n",
    "      % (p_train, r_train, f1_train))\n",
    "print('pca lr dev P = %f, dev R = %f, dev f1 = %f' \\\n",
    "      % (p_dev, r_dev, f1_dev))\n",
    "print('pca lr test P = %f, test R = %f, test f1 = %f' \\\n",
    "      % (p_test, r_test, f1_test))"
   ]
  },
  {
   "cell_type": "code",
   "execution_count": 23,
   "metadata": {},
   "outputs": [],
   "source": [
    "vgg_mpl_proba_train = best_mpl_model.predict_proba(X_train)\n",
    "vgg_svc_proba_train = svc.predict_proba(X_train)\n",
    "vgg_lr_proba_train = lr.predict_proba(X_train)\n",
    "ensemble_biz_proba_train = (vgg_mpl_proba_train + vgg_svc_proba_train + vgg_lr_proba_train) / 3\n",
    "\n",
    "vgg_mpl_proba_test = best_mpl_model.predict_proba(X_test)\n",
    "vgg_svc_proba_test = svc.predict_proba(X_test)\n",
    "vgg_lr_proba_test = lr.predict_proba(X_test)\n",
    "ensemble_biz_proba_test = (vgg_mpl_proba_test + vgg_svc_proba_test + vgg_lr_proba_test) / 3"
   ]
  },
  {
   "cell_type": "code",
   "execution_count": 24,
   "metadata": {},
   "outputs": [
    {
     "name": "stdout",
     "output_type": "stream",
     "text": [
      "ensemble train P = 0.815521, train R = 0.915959, train f1 = 0.859898\n",
      "ensemble test P = 0.768155, test R = 0.874300, test f1 = 0.812148\n"
     ]
    }
   ],
   "source": [
    "ensemble_biz_pred_train = np.zeros(ensemble_biz_proba_train.shape)\n",
    "ensemble_biz_pred_train[ensemble_biz_proba_train >= 0.40] = 1.\n",
    "p_train, r_train, f1_train, _ = metrics.precision_recall_fscore_support(y_train, ensemble_biz_pred_train, average='macro')\n",
    "print('ensemble train P = %f, train R = %f, train f1 = %f' \\\n",
    "      % (p_train, r_train, f1_train))\n",
    "\n",
    "ensemble_biz_pred_test = np.zeros(ensemble_biz_proba_test.shape)\n",
    "ensemble_biz_pred_test[ensemble_biz_proba_test >= 0.40] = 1.\n",
    "p_test, r_test, f1_test, _ = metrics.precision_recall_fscore_support(y_test, ensemble_biz_pred_test, average='macro')\n",
    "print('ensemble test P = %f, test R = %f, test f1 = %f' \\\n",
    "      % (p_test, r_test, f1_test))"
   ]
  },
  {
   "cell_type": "code",
   "execution_count": null,
   "metadata": {},
   "outputs": [],
   "source": []
  }
 ],
 "metadata": {
  "kernelspec": {
   "display_name": "Python 3",
   "language": "python",
   "name": "python3"
  },
  "language_info": {
   "codemirror_mode": {
    "name": "ipython",
    "version": 3
   },
   "file_extension": ".py",
   "mimetype": "text/x-python",
   "name": "python",
   "nbconvert_exporter": "python",
   "pygments_lexer": "ipython3",
   "version": "3.6.4"
  }
 },
 "nbformat": 4,
 "nbformat_minor": 2
}
