{
 "cells": [
  {
   "cell_type": "code",
   "execution_count": 1,
   "metadata": {},
   "outputs": [
    {
     "name": "stderr",
     "output_type": "stream",
     "text": [
      "/home/shared/anaconda3/lib/python3.6/site-packages/h5py/__init__.py:36: FutureWarning: Conversion of the second argument of issubdtype from `float` to `np.floating` is deprecated. In future, it will be treated as `np.float64 == np.dtype(float).type`.\n",
      "  from ._conv import register_converters as _register_converters\n"
     ]
    }
   ],
   "source": [
    "import yelp_dataloader\n",
    "import numpy as np\n",
    "import random\n",
    "from timeit import default_timer as timer\n",
    "from sklearn import metrics"
   ]
  },
  {
   "cell_type": "code",
   "execution_count": 2,
   "metadata": {},
   "outputs": [
    {
     "name": "stdout",
     "output_type": "stream",
     "text": [
      "/home/Afshin/cs231n/cs231n-project/yelp-resnet-feats/yelp_resnet_0.h5\n",
      "/home/Afshin/cs231n/cs231n-project/yelp-resnet-feats/yelp_resnet_1.h5\n",
      "/home/Afshin/cs231n/cs231n-project/yelp-resnet-feats/yelp_resnet_2.h5\n",
      "/home/Afshin/cs231n/cs231n-project/yelp-resnet-feats/yelp_resnet_3.h5\n",
      "/home/Afshin/cs231n/cs231n-project/yelp-resnet-feats/yelp_resnet_4.h5\n",
      "load time for Yelp features. 3.5415105640004185\n",
      "(234842, 11)\n",
      "(234842, 514)\n"
     ]
    }
   ],
   "source": [
    "# Example of how to load Yelp photo features\n",
    "dir_path = '/home/Afshin/cs231n/cs231n-project/yelp-resnet-feats'\n",
    "file_name_prefix='yelp_resnet_'\n",
    "num_batches=5\n",
    "num_feats=512\n",
    "start = timer()\n",
    "meta_feats, photo_feats = yelp_dataloader.read_yelp_photo_feats(dir_path, file_name_prefix, num_batches, num_feats)\n",
    "end = timer()\n",
    "print('load time for Yelp features.', (end - start))\n",
    "print(meta_feats.shape)\n",
    "print(photo_feats.shape)"
   ]
  },
  {
   "cell_type": "code",
   "execution_count": 3,
   "metadata": {},
   "outputs": [
    {
     "name": "stdout",
     "output_type": "stream",
     "text": [
      "Computing Yelp biz features out of Yelp photo features...\n",
      "business features shape =  (2000, 512)\n",
      "biz id and business features shape =  (2000, 513)\n",
      "business labels shape =  (2000, 9)\n",
      "biz id and business labels shape =  (2000, 10)\n",
      "Exporting Yelp biz features to /home/Afshin/cs231n/cs231n-project/yelp-resnet-biz-feats/yelp_resnet_biz_feats.h5\n",
      "Yelp biz features exported to /home/Afshin/cs231n/cs231n-project/yelp-resnet-biz-feats/yelp_resnet_biz_feats.h5\n"
     ]
    }
   ],
   "source": [
    "biz_dir_path = '/home/Afshin/cs231n/cs231n-project/yelp-resnet-biz-feats'\n",
    "file_name = 'yelp_resnet_biz_feats.h5'\n",
    "biz_id_feats, biz_id_labels = yelp_dataloader.compute_yelp_biz_feats(meta_feats, photo_feats,\\\n",
    "                                                                     num_feats, biz_dir_path, file_name, export=True)"
   ]
  },
  {
   "cell_type": "code",
   "execution_count": 4,
   "metadata": {},
   "outputs": [
    {
     "name": "stdout",
     "output_type": "stream",
     "text": [
      "biz_feats,  (2000, 512)\n",
      "biz_labels,  (2000, 9)\n"
     ]
    }
   ],
   "source": [
    "# Example of how to read Yelp business features\n",
    "biz_dir_path = '/home/Afshin/cs231n/cs231n-project/yelp-resnet-biz-feats'\n",
    "biz_file_name = 'yelp_resnet_biz_feats.h5'\n",
    "biz_id_feats, biz_id_labels = yelp_dataloader.read_yelp_biz_feats(biz_dir_path, biz_file_name)\n",
    "biz_feats = biz_id_feats[:, 1:]\n",
    "biz_labels = biz_id_labels[:, 1:]\n",
    "print('biz_feats, ', biz_feats.shape)\n",
    "print('biz_labels, ', biz_labels.shape)"
   ]
  },
  {
   "cell_type": "code",
   "execution_count": 5,
   "metadata": {},
   "outputs": [],
   "source": [
    "Num_train = 1800\n",
    "Num_dev = 100\n",
    "Num_test = 100\n",
    "X_train = biz_feats[:Num_train]\n",
    "y_train = biz_labels[:Num_train]\n",
    "X_dev = biz_feats[Num_train: Num_train + Num_dev]\n",
    "y_dev = biz_labels[Num_train: Num_train + Num_dev]\n",
    "X_test = biz_feats[Num_train + Num_dev: Num_train + Num_dev + Num_test]\n",
    "y_test = biz_labels[Num_train + Num_dev: Num_train + Num_dev + Num_test]"
   ]
  },
  {
   "cell_type": "code",
   "execution_count": 14,
   "metadata": {},
   "outputs": [
    {
     "name": "stdout",
     "output_type": "stream",
     "text": [
      "mpl train P = 0.851866, train R = 0.780444, train f1 = 0.813485, Hidden size = 70\n",
      "mpl dev P = 0.870328, dev R = 0.781118, dev f1 = 0.819066, Hidden size = 70\n",
      "\n",
      "mpl train P = 0.852608, train R = 0.789957, train f1 = 0.816828, Hidden size = 80\n",
      "mpl dev P = 0.869155, dev R = 0.801593, dev f1 = 0.826855, Hidden size = 80\n",
      "\n",
      "mpl train P = 0.831060, train R = 0.809128, train f1 = 0.819368, Hidden size = 90\n",
      "mpl dev P = 0.833291, dev R = 0.809790, dev f1 = 0.817511, Hidden size = 90\n",
      "\n",
      "mpl train P = 0.853757, train R = 0.816722, train f1 = 0.834179, Hidden size = 100\n",
      "mpl dev P = 0.854168, dev R = 0.803607, dev f1 = 0.823472, Hidden size = 100\n",
      "\n",
      "mpl train P = 0.855141, train R = 0.800126, train f1 = 0.825433, Hidden size = 110\n",
      "mpl dev P = 0.871851, dev R = 0.768503, dev f1 = 0.808839, Hidden size = 110\n",
      "\n",
      "mpl train P = 0.850565, train R = 0.752446, train f1 = 0.794368, Hidden size = 120\n",
      "mpl dev P = 0.866454, dev R = 0.748386, dev f1 = 0.796385, Hidden size = 120\n",
      "\n",
      "mpl train P = 0.866382, train R = 0.780881, train f1 = 0.813752, Hidden size = 130\n",
      "mpl dev P = 0.888949, dev R = 0.779342, dev f1 = 0.811086, Hidden size = 130\n",
      "\n",
      "mpl train P = 0.863126, train R = 0.777572, train f1 = 0.814296, Hidden size = 140\n",
      "mpl dev P = 0.860214, dev R = 0.773955, dev f1 = 0.807159, Hidden size = 140\n",
      "\n",
      "Best mpl dev P = 0.869155, dev R = 0.801593, dev f1 = 0.826855, Best hidden size = 80\n",
      "Best mpl test P = 0.834114, test R = 0.758843, test f1 = 0.790987, Best hidden size = 80\n"
     ]
    }
   ],
   "source": [
    "from sklearn.neural_network import MLPClassifier\n",
    "\n",
    "hidden_sizes = [70, 80, 90, 100, 110, 120, 130, 140]\n",
    "best_p, best_r, best_f1, best_size, best_mpl_model = 0, 0, 0, 0, None\n",
    "for size in hidden_sizes:\n",
    "    mpl = MLPClassifier(hidden_layer_sizes=(size))\n",
    "    mpl.fit(X_train,y_train)\n",
    "    \n",
    "    mpl_train_pred = mpl.predict(X_train)\n",
    "    mpl_dev_pred = mpl.predict(X_dev)\n",
    "    \n",
    "    p_train, r_train, f1_train, _ = metrics.precision_recall_fscore_support(y_train, mpl_train_pred, average='macro') \n",
    "    p_dev, r_dev, f1_dev, _ = metrics.precision_recall_fscore_support(y_dev, mpl_dev_pred, average='macro')  \n",
    "    print('mpl train P = %f, train R = %f, train f1 = %f, Hidden size = %d' \\\n",
    "          % (p_train, r_train, f1_train, size))\n",
    "    print('mpl dev P = %f, dev R = %f, dev f1 = %f, Hidden size = %d' \\\n",
    "          % (p_dev, r_dev, f1_dev, size))\n",
    "    print()\n",
    "    if f1_dev > best_f1:\n",
    "        best_p = p_dev\n",
    "        best_r = r_dev\n",
    "        best_f1 = f1_dev\n",
    "        best_size = size\n",
    "        best_mpl_model = mpl\n",
    "\n",
    "print('Best mpl dev P = %f, dev R = %f, dev f1 = %f, Best hidden size = %d' \\\n",
    "      % (best_p, best_r, best_f1, best_size))\n",
    "mpl_test_pred = best_mpl_model.predict(X_test)\n",
    "p_test, r_test, f1_test, _ = metrics.precision_recall_fscore_support(y_test, mpl_test_pred, average='macro') \n",
    "print('Best mpl test P = %f, test R = %f, test f1 = %f, Best hidden size = %d' \\\n",
    "  % (p_test, r_test, f1_test, best_size))"
   ]
  },
  {
   "cell_type": "code",
   "execution_count": 15,
   "metadata": {},
   "outputs": [
    {
     "name": "stdout",
     "output_type": "stream",
     "text": [
      "dtc train P = 1.000000, train R = 1.000000, train f1 = 1.000000\n",
      "dtc dev P = 0.753365, dev R = 0.741810, dev f1 = 0.744885\n",
      "dtc test P = 0.684406, test R = 0.699791, test f1 = 0.689665\n"
     ]
    }
   ],
   "source": [
    "from sklearn.tree import DecisionTreeClassifier\n",
    "\n",
    "dtc = DecisionTreeClassifier()\n",
    "dtc.fit(X_train,y_train)\n",
    "    \n",
    "dtc_train_pred = dtc.predict(X_train)\n",
    "dtc_dev_pred = dtc.predict(X_dev)\n",
    "dtc_test_pred = dtc.predict(X_test)\n",
    "p_train, r_train, f1_train, _ = metrics.precision_recall_fscore_support(y_train, dtc_train_pred, average='macro') \n",
    "p_dev, r_dev, f1_dev, _ = metrics.precision_recall_fscore_support(y_dev, dtc_dev_pred, average='macro')  \n",
    "p_test, r_test, f1_test, _ = metrics.precision_recall_fscore_support(y_test, dtc_test_pred, average='macro') \n",
    "print('dtc train P = %f, train R = %f, train f1 = %f' \\\n",
    "      % (p_train, r_train, f1_train))\n",
    "print('dtc dev P = %f, dev R = %f, dev f1 = %f' \\\n",
    "      % (p_dev, r_dev, f1_dev))\n",
    "print('dtc test P = %f, test R = %f, test f1 = %f' \\\n",
    "      % (p_test, r_test, f1_test))"
   ]
  },
  {
   "cell_type": "code",
   "execution_count": 16,
   "metadata": {},
   "outputs": [
    {
     "name": "stdout",
     "output_type": "stream",
     "text": [
      "rfc train P = 0.997805, train R = 0.983134, train f1 = 0.990389\n",
      "rfc dev P = 0.818966, dev R = 0.727840, dev f1 = 0.766702\n",
      "rfc test P = 0.801292, test R = 0.690629, test f1 = 0.734858\n"
     ]
    }
   ],
   "source": [
    "from sklearn.ensemble import RandomForestClassifier\n",
    "\n",
    "rfc = RandomForestClassifier()\n",
    "rfc.fit(X_train,y_train)\n",
    "\n",
    "rfc_train_pred = rfc.predict(X_train)\n",
    "rfc_dev_pred = rfc.predict(X_dev)\n",
    "rfc_test_pred = rfc.predict(X_test)\n",
    "p_train, r_train, f1_train, _ = metrics.precision_recall_fscore_support(y_train, rfc_train_pred, average='macro') \n",
    "p_dev, r_dev, f1_dev, _ = metrics.precision_recall_fscore_support(y_dev, rfc_dev_pred, average='macro')  \n",
    "p_test, r_test, f1_test, _ = metrics.precision_recall_fscore_support(y_test, rfc_test_pred, average='macro') \n",
    "print('rfc train P = %f, train R = %f, train f1 = %f' \\\n",
    "      % (p_train, r_train, f1_train))\n",
    "print('rfc dev P = %f, dev R = %f, dev f1 = %f' \\\n",
    "      % (p_dev, r_dev, f1_dev))\n",
    "print('rfc test P = %f, test R = %f, test f1 = %f' \\\n",
    "      % (p_test, r_test, f1_test))"
   ]
  },
  {
   "cell_type": "code",
   "execution_count": 17,
   "metadata": {},
   "outputs": [
    {
     "name": "stdout",
     "output_type": "stream",
     "text": [
      "knn train P = 0.873390, train R = 0.884428, train f1 = 0.876877, Best number of neighbors 3\n",
      "knn dev P = 0.798777, dev R = 0.800341, dev f1 = 0.793024, Best number of neighbors 3\n",
      "\n",
      "knn train P = 0.848113, train R = 0.862857, train f1 = 0.852178, Best number of neighbors 5\n",
      "knn dev P = 0.810346, dev R = 0.819282, dev f1 = 0.808191, Best number of neighbors 5\n",
      "\n",
      "knn train P = 0.846431, train R = 0.805629, train f1 = 0.818541, Best number of neighbors 10\n",
      "knn dev P = 0.828447, dev R = 0.779296, dev f1 = 0.793197, Best number of neighbors 10\n",
      "\n",
      "knn train P = 0.820966, train R = 0.815109, train f1 = 0.807829, Best number of neighbors 20\n",
      "knn dev P = 0.807994, dev R = 0.796636, dev f1 = 0.787031, Best number of neighbors 20\n",
      "\n",
      "knn train P = 0.805261, train R = 0.818036, train f1 = 0.799209, Best number of neighbors 30\n",
      "knn dev P = 0.797535, dev R = 0.800856, dev f1 = 0.782799, Best number of neighbors 30\n",
      "\n",
      "Best knn dev P = 0.810346, dev R = 0.819282, dev f1 = 0.808191, Best number of neighbors 5\n",
      "Best knn test P = 0.781620, test R = 0.797538, test f1 = 0.782643, Best number of neighbors 5\n"
     ]
    }
   ],
   "source": [
    "from sklearn.neighbors import KNeighborsClassifier\n",
    "\n",
    "neighbor_sizes = [3, 5, 10, 20, 30]\n",
    "best_p, best_r, best_f1, best_size, best_knn_model = 0, 0, 0, 0, None\n",
    "for size in neighbor_sizes:\n",
    "    knn = KNeighborsClassifier(n_neighbors=size)\n",
    "    knn.fit(X_train,y_train)\n",
    "\n",
    "    knn_train_pred = knn.predict(X_train)\n",
    "    knn_dev_pred = knn.predict(X_dev)\n",
    "    p_train, r_train, f1_train, _ = metrics.precision_recall_fscore_support(y_train, knn_train_pred, average='macro') \n",
    "    p_dev, r_dev, f1_dev, _ = metrics.precision_recall_fscore_support(y_dev, knn_dev_pred, average='macro')  \n",
    "    print('knn train P = %f, train R = %f, train f1 = %f, Best number of neighbors %d' \\\n",
    "          % (p_train, r_train, f1_train, size))\n",
    "    print('knn dev P = %f, dev R = %f, dev f1 = %f, Best number of neighbors %d' \\\n",
    "          % (p_dev, r_dev, f1_dev, size))\n",
    "    print()\n",
    "    if f1_dev > best_f1:\n",
    "        best_p = p_dev\n",
    "        best_r = r_dev\n",
    "        best_f1 = f1_dev\n",
    "        best_size = size\n",
    "        best_knn_model = knn\n",
    "print('Best knn dev P = %f, dev R = %f, dev f1 = %f, Best number of neighbors %d' \\\n",
    "          % (best_p, best_r, best_f1, best_size))\n",
    "knn_test_pred = best_knn_model.predict(X_test)\n",
    "p_test, r_test, f1_test, s_test = metrics.precision_recall_fscore_support(y_test, knn_test_pred, average='macro') \n",
    "print('Best knn test P = %f, test R = %f, test f1 = %f, Best number of neighbors %d' \\\n",
    "  % (p_test, r_test, f1_test, best_size))"
   ]
  },
  {
   "cell_type": "code",
   "execution_count": 18,
   "metadata": {},
   "outputs": [
    {
     "name": "stdout",
     "output_type": "stream",
     "text": [
      "svc train P = 0.895254, train R = 0.870001, train f1 = 0.881883\n",
      "svc dev P = 0.848925, dev R = 0.799972, dev f1 = 0.818042\n",
      "svc test P = 0.829445, test R = 0.794420, test f1 = 0.810029\n"
     ]
    }
   ],
   "source": [
    "from sklearn.multiclass import OneVsRestClassifier\n",
    "from sklearn.svm import LinearSVC\n",
    "from sklearn.calibration import CalibratedClassifierCV\n",
    "\n",
    "svc = OneVsRestClassifier(CalibratedClassifierCV(LinearSVC(random_state=0, C=0.1))).fit(X_train, y_train)\n",
    "svc_train_pred = svc.predict(X_train)\n",
    "svc_dev_pred = svc.predict(X_dev)\n",
    "svc_test_pred = svc.predict(X_test)\n",
    "p_train, r_train, f1_train, _ = metrics.precision_recall_fscore_support(y_train, svc_train_pred, average='macro') \n",
    "p_dev, r_dev, f1_dev, _ = metrics.precision_recall_fscore_support(y_dev, svc_dev_pred, average='macro')\n",
    "p_test, r_test, f1_test, _ = metrics.precision_recall_fscore_support(y_test, svc_test_pred, average='macro') \n",
    "print('svc train P = %f, train R = %f, train f1 = %f' % \\\n",
    "      (p_train, r_train, f1_train))\n",
    "print('svc dev P = %f, dev R = %f, dev f1 = %f' \\\n",
    "      % (p_dev, r_dev, f1_dev))\n",
    "print('svc test P = %f, test R = %f, test f1 = %f' \\\n",
    "      % (p_test, r_test, f1_test))"
   ]
  },
  {
   "cell_type": "code",
   "execution_count": 19,
   "metadata": {},
   "outputs": [
    {
     "name": "stdout",
     "output_type": "stream",
     "text": [
      "lr train P = 0.862098, train R = 0.846905, train f1 = 0.854155\n",
      "lr dev P = 0.849313, dev R = 0.809673, dev f1 = 0.826096\n",
      "lr test P = 0.826737, test R = 0.793261, test f1 = 0.808103\n"
     ]
    }
   ],
   "source": [
    "from sklearn.multiclass import OneVsRestClassifier\n",
    "from sklearn.linear_model import LogisticRegression\n",
    "\n",
    "lr = OneVsRestClassifier(LogisticRegression(random_state=0, C=0.1)).fit(X_train, y_train)\n",
    "lr_train_pred = lr.predict(X_train)\n",
    "lr_dev_pred = lr.predict(X_dev)\n",
    "lr_test_pred = lr.predict(X_test)\n",
    "p_train, r_train, f1_train, _ = metrics.precision_recall_fscore_support(y_train, lr_train_pred, average='macro') \n",
    "p_dev, r_dev, f1_dev, _ = metrics.precision_recall_fscore_support(y_dev, lr_dev_pred, average='macro')\n",
    "p_test, r_test, f1_test, _ = metrics.precision_recall_fscore_support(y_test, lr_test_pred, average='macro') \n",
    "print('lr train P = %f, train R = %f, train f1 = %f' \\\n",
    "      % (p_train, r_train, f1_train))\n",
    "print('lr dev P = %f, dev R = %f, dev f1 = %f' \\\n",
    "      % (p_dev, r_dev, f1_dev))\n",
    "print('lr test P = %f, test R = %f, test f1 = %f' \\\n",
    "      % (p_test, r_test, f1_test))"
   ]
  },
  {
   "cell_type": "code",
   "execution_count": 20,
   "metadata": {},
   "outputs": [],
   "source": [
    "resnet_mpl_proba_train = best_mpl_model.predict_proba(X_train)\n",
    "resnet_svc_proba_train = svc.predict_proba(X_train)\n",
    "resnet_lr_proba_train = lr.predict_proba(X_train)\n",
    "ensemble_biz_proba_train = (resnet_mpl_proba_train + resnet_svc_proba_train + resnet_lr_proba_train) / 3\n",
    "\n",
    "resnet_mpl_proba_test = best_mpl_model.predict_proba(X_test)\n",
    "resnet_svc_proba_test = svc.predict_proba(X_test)\n",
    "resnet_lr_proba_test = lr.predict_proba(X_test)\n",
    "ensemble_biz_proba_test = (resnet_mpl_proba_test + resnet_svc_proba_test + resnet_lr_proba_test) / 3"
   ]
  },
  {
   "cell_type": "code",
   "execution_count": 22,
   "metadata": {},
   "outputs": [
    {
     "name": "stdout",
     "output_type": "stream",
     "text": [
      "ensemble train P = 0.827673, train R = 0.900757, train f1 = 0.861940\n",
      "ensemble test P = 0.794791, test R = 0.869366, test f1 = 0.828749\n"
     ]
    }
   ],
   "source": [
    "ensemble_biz_pred_train = np.zeros(ensemble_biz_proba_train.shape)\n",
    "ensemble_biz_pred_train[ensemble_biz_proba_train >= 0.40] = 1.\n",
    "p_train, r_train, f1_train, _ = metrics.precision_recall_fscore_support(y_train, ensemble_biz_pred_train, average='macro')\n",
    "print('ensemble train P = %f, train R = %f, train f1 = %f' \\\n",
    "      % (p_train, r_train, f1_train))\n",
    "\n",
    "ensemble_biz_pred_test = np.zeros(ensemble_biz_proba_test.shape)\n",
    "ensemble_biz_pred_test[ensemble_biz_proba_test >= 0.40] = 1.\n",
    "p_test, r_test, f1_test, _ = metrics.precision_recall_fscore_support(y_test, ensemble_biz_pred_test, average='macro')\n",
    "print('ensemble test P = %f, test R = %f, test f1 = %f' \\\n",
    "      % (p_test, r_test, f1_test))"
   ]
  },
  {
   "cell_type": "code",
   "execution_count": null,
   "metadata": {},
   "outputs": [],
   "source": []
  }
 ],
 "metadata": {
  "kernelspec": {
   "display_name": "Python 3",
   "language": "python",
   "name": "python3"
  },
  "language_info": {
   "codemirror_mode": {
    "name": "ipython",
    "version": 3
   },
   "file_extension": ".py",
   "mimetype": "text/x-python",
   "name": "python",
   "nbconvert_exporter": "python",
   "pygments_lexer": "ipython3",
   "version": "3.6.4"
  }
 },
 "nbformat": 4,
 "nbformat_minor": 2
}
