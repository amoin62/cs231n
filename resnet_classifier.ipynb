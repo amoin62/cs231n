{
 "cells": [
  {
   "cell_type": "code",
   "execution_count": 1,
   "metadata": {},
   "outputs": [
    {
     "name": "stderr",
     "output_type": "stream",
     "text": [
      "/home/shared/anaconda3/lib/python3.6/site-packages/h5py/__init__.py:36: FutureWarning: Conversion of the second argument of issubdtype from `float` to `np.floating` is deprecated. In future, it will be treated as `np.float64 == np.dtype(float).type`.\n",
      "  from ._conv import register_converters as _register_converters\n"
     ]
    }
   ],
   "source": [
    "import yelp_dataloader\n",
    "import numpy as np\n",
    "import random\n",
    "from timeit import default_timer as timer\n",
    "from sklearn import metrics"
   ]
  },
  {
   "cell_type": "code",
   "execution_count": 2,
   "metadata": {},
   "outputs": [
    {
     "name": "stdout",
     "output_type": "stream",
     "text": [
      "/home/Afshin/cs231n/cs231n-project/yelp-resnet-feats/yelp_resnet_0.h5\n",
      "/home/Afshin/cs231n/cs231n-project/yelp-resnet-feats/yelp_resnet_1.h5\n",
      "/home/Afshin/cs231n/cs231n-project/yelp-resnet-feats/yelp_resnet_2.h5\n",
      "/home/Afshin/cs231n/cs231n-project/yelp-resnet-feats/yelp_resnet_3.h5\n",
      "/home/Afshin/cs231n/cs231n-project/yelp-resnet-feats/yelp_resnet_4.h5\n",
      "load time for Yelp features. 4.361218080000981\n",
      "(234842, 11)\n",
      "(234842, 514)\n"
     ]
    }
   ],
   "source": [
    "# Example of how to load Yelp photo features\n",
    "dir_path = '/home/Afshin/cs231n/cs231n-project/yelp-resnet-feats'\n",
    "file_name_prefix='yelp_resnet_'\n",
    "num_batches=5\n",
    "num_feats=512\n",
    "start = timer()\n",
    "meta_feats, photo_feats = yelp_dataloader.read_yelp_photo_feats(dir_path, file_name_prefix, num_batches, num_feats)\n",
    "end = timer()\n",
    "print('load time for Yelp features.', (end - start))\n",
    "print(meta_feats.shape)\n",
    "print(photo_feats.shape)"
   ]
  },
  {
   "cell_type": "code",
   "execution_count": 3,
   "metadata": {},
   "outputs": [
    {
     "name": "stdout",
     "output_type": "stream",
     "text": [
      "Computing Yelp biz features out of Yelp photo features...\n",
      "business features shape =  (2000, 512)\n",
      "biz id and business features shape =  (2000, 513)\n",
      "business labels shape =  (2000, 9)\n",
      "biz id and business labels shape =  (2000, 10)\n",
      "Exporting Yelp biz features to /home/Afshin/cs231n/cs231n-project/yelp-resnet-biz-feats/yelp_resnet_biz_feats.h5\n",
      "Yelp biz features exported to /home/Afshin/cs231n/cs231n-project/yelp-resnet-biz-feats/yelp_resnet_biz_feats.h5\n"
     ]
    }
   ],
   "source": [
    "biz_dir_path = '/home/Afshin/cs231n/cs231n-project/yelp-resnet-biz-feats'\n",
    "file_name = 'yelp_resnet_biz_feats.h5'\n",
    "biz_id_feats, biz_id_labels = yelp_dataloader.compute_yelp_biz_feats(meta_feats, photo_feats,\\\n",
    "                                                                     num_feats, biz_dir_path, file_name, export=True)"
   ]
  },
  {
   "cell_type": "code",
   "execution_count": 4,
   "metadata": {},
   "outputs": [
    {
     "name": "stdout",
     "output_type": "stream",
     "text": [
      "biz_feats,  (2000, 512)\n",
      "biz_labels,  (2000, 9)\n"
     ]
    }
   ],
   "source": [
    "# Example of how to read Yelp business features\n",
    "biz_dir_path = '/home/Afshin/cs231n/cs231n-project/yelp-resnet-biz-feats'\n",
    "biz_file_name = 'yelp_resnet_biz_feats.h5'\n",
    "biz_id_feats, biz_id_labels = yelp_dataloader.read_yelp_biz_feats(biz_dir_path, biz_file_name)\n",
    "biz_feats = biz_id_feats[:, 1:]\n",
    "biz_labels = biz_id_labels[:, 1:]\n",
    "print('biz_feats, ', biz_feats.shape)\n",
    "print('biz_labels, ', biz_labels.shape)"
   ]
  },
  {
   "cell_type": "code",
   "execution_count": 5,
   "metadata": {},
   "outputs": [],
   "source": [
    "Num_train = 1800\n",
    "Num_dev = 100\n",
    "Num_test = 100\n",
    "X_train = biz_feats[:Num_train]\n",
    "y_train = biz_labels[:Num_train]\n",
    "X_dev = biz_feats[Num_train: Num_train + Num_dev]\n",
    "y_dev = biz_labels[Num_train: Num_train + Num_dev]\n",
    "X_test = biz_feats[Num_train + Num_dev: Num_train + Num_dev + Num_test]\n",
    "y_test = biz_labels[Num_train + Num_dev: Num_train + Num_dev + Num_test]"
   ]
  },
  {
   "cell_type": "code",
   "execution_count": 6,
   "metadata": {},
   "outputs": [
    {
     "name": "stdout",
     "output_type": "stream",
     "text": [
      "mpl train f1 = 0.813235 for hidden size 70\n",
      "mpl dev f1 = 0.823635 for hidden size 70\n",
      "\n",
      "mpl train f1 = 0.830007 for hidden size 80\n",
      "mpl dev f1 = 0.841826 for hidden size 80\n",
      "\n",
      "mpl train f1 = 0.819605 for hidden size 90\n",
      "mpl dev f1 = 0.832805 for hidden size 90\n",
      "\n",
      "mpl train f1 = 0.825253 for hidden size 100\n",
      "mpl dev f1 = 0.823822 for hidden size 100\n",
      "\n",
      "mpl train f1 = 0.812314 for hidden size 110\n",
      "mpl dev f1 = 0.813210 for hidden size 110\n",
      "\n",
      "mpl train f1 = 0.826561 for hidden size 120\n",
      "mpl dev f1 = 0.831119 for hidden size 120\n",
      "\n",
      "mpl train f1 = 0.819057 for hidden size 130\n",
      "mpl dev f1 = 0.820133 for hidden size 130\n",
      "\n",
      "mpl train f1 = 0.813584 for hidden size 140\n",
      "mpl dev f1 = 0.814086 for hidden size 140\n",
      "\n",
      "Best mpl dev f1 score = 0.841826 Best hidden layer size = 80\n"
     ]
    }
   ],
   "source": [
    "from sklearn.neural_network import MLPClassifier\n",
    "\n",
    "hidden_sizes = [70, 80, 90, 100, 110, 120, 130, 140]\n",
    "best_f1, best_size = 0, 0\n",
    "for size in hidden_sizes:\n",
    "    resnet_mpl = MLPClassifier(hidden_layer_sizes=(size))\n",
    "    resnet_mpl.fit(X_train,y_train)\n",
    "    \n",
    "    resnet_mpl_train_pred = resnet_mpl.predict(X_train)\n",
    "    resnet_mpl_dev_pred = resnet_mpl.predict(X_dev)\n",
    "    f1_train = metrics.f1_score(y_train, resnet_mpl_train_pred, average='macro') \n",
    "    f1_dev = metrics.f1_score(y_dev, resnet_mpl_dev_pred, average='macro')  \n",
    "    print('mpl train f1 = %f for hidden size %d' % (f1_train, size))\n",
    "    print('mpl dev f1 = %f for hidden size %d' % (f1_dev, size))\n",
    "    print()\n",
    "    if f1_dev > best_f1:\n",
    "        best_f1 = f1_dev\n",
    "        best_size = size\n",
    "print('Best mpl dev f1 score = %f Best hidden layer size = %d' % (best_f1, best_size))"
   ]
  },
  {
   "cell_type": "code",
   "execution_count": 7,
   "metadata": {},
   "outputs": [
    {
     "name": "stdout",
     "output_type": "stream",
     "text": [
      "dtc train f1 = 1.000000\n",
      "dtc dev f1 = 0.728035\n"
     ]
    }
   ],
   "source": [
    "from sklearn.tree import DecisionTreeClassifier\n",
    "\n",
    "dtc = DecisionTreeClassifier()\n",
    "dtc.fit(X_train,y_train)\n",
    "    \n",
    "dtc_train_pred = dtc.predict(X_train)\n",
    "dtc_dev_pred = dtc.predict(X_dev)\n",
    "f1_train = metrics.f1_score(y_train, dtc_train_pred, average='macro') \n",
    "f1_dev = metrics.f1_score(y_dev, dtc_dev_pred, average='macro')  \n",
    "print('dtc train f1 = %f' % f1_train)\n",
    "print('dtc dev f1 = %f' % f1_dev)"
   ]
  },
  {
   "cell_type": "code",
   "execution_count": 8,
   "metadata": {},
   "outputs": [
    {
     "name": "stdout",
     "output_type": "stream",
     "text": [
      "rfc train f1 = 0.988042 \n",
      "rfc dev f1 = 0.728095 \n"
     ]
    }
   ],
   "source": [
    "from sklearn.ensemble import RandomForestClassifier\n",
    "\n",
    "rfc = RandomForestClassifier()\n",
    "rfc.fit(X_train,y_train)\n",
    "    \n",
    "rfc_train_pred = rfc.predict(X_train)\n",
    "rfc_dev_pred = rfc.predict(X_dev)\n",
    "f1_train = metrics.f1_score(y_train, rfc_train_pred, average='macro') \n",
    "f1_dev = metrics.f1_score(y_dev, rfc_dev_pred, average='macro')  \n",
    "print('rfc train f1 = %f ' % f1_train)\n",
    "print('rfc dev f1 = %f ' % f1_dev)"
   ]
  },
  {
   "cell_type": "code",
   "execution_count": 9,
   "metadata": {},
   "outputs": [
    {
     "name": "stdout",
     "output_type": "stream",
     "text": [
      "knn train f1 = 0.876877 Best number of neighbors 3\n",
      "knn dev f1 = 0.793024 Best number of neighbors 3\n",
      "\n",
      "knn train f1 = 0.852178 Best number of neighbors 5\n",
      "knn dev f1 = 0.808191 Best number of neighbors 5\n",
      "\n",
      "knn train f1 = 0.818541 Best number of neighbors 10\n",
      "knn dev f1 = 0.793197 Best number of neighbors 10\n",
      "\n",
      "knn train f1 = 0.807829 Best number of neighbors 20\n",
      "knn dev f1 = 0.787031 Best number of neighbors 20\n",
      "\n",
      "knn train f1 = 0.799209 Best number of neighbors 30\n",
      "knn dev f1 = 0.782799 Best number of neighbors 30\n",
      "\n",
      "Best knn dev f1 score = 0.808191 Best number of neighbors = 5\n"
     ]
    }
   ],
   "source": [
    "from sklearn.neighbors import KNeighborsClassifier\n",
    "\n",
    "neighbor_sizes = [3, 5, 10, 20, 30]\n",
    "best_f1, best_size = 0, 0\n",
    "for size in neighbor_sizes:\n",
    "    knn = KNeighborsClassifier(n_neighbors=size)\n",
    "    knn.fit(X_train,y_train)\n",
    "\n",
    "    knn_train_pred = knn.predict(X_train)\n",
    "    knn_dev_pred = knn.predict(X_dev)\n",
    "    f1_train = metrics.f1_score(y_train, knn_train_pred, average='macro') \n",
    "    f1_dev = metrics.f1_score(y_dev, knn_dev_pred, average='macro')  \n",
    "    print('knn train f1 = %f Best number of neighbors %d' % (f1_train, size))\n",
    "    print('knn dev f1 = %f Best number of neighbors %d' % (f1_dev, size))\n",
    "    print()\n",
    "    if f1_dev > best_f1:\n",
    "        best_f1 = f1_dev\n",
    "        best_size = size\n",
    "print('Best knn dev f1 score = %f Best number of neighbors = %d' % (best_f1, best_size))"
   ]
  },
  {
   "cell_type": "code",
   "execution_count": null,
   "metadata": {},
   "outputs": [],
   "source": []
  }
 ],
 "metadata": {
  "kernelspec": {
   "display_name": "Python 3",
   "language": "python",
   "name": "python3"
  },
  "language_info": {
   "codemirror_mode": {
    "name": "ipython",
    "version": 3
   },
   "file_extension": ".py",
   "mimetype": "text/x-python",
   "name": "python",
   "nbconvert_exporter": "python",
   "pygments_lexer": "ipython3",
   "version": "3.6.4"
  }
 },
 "nbformat": 4,
 "nbformat_minor": 2
}
